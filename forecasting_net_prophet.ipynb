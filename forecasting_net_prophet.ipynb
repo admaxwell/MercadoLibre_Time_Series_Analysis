{
 "cells": [
  {
   "cell_type": "code",
   "execution_count": null,
   "id": "3d65bd10-695d-432b-9969-2324c9f4a5da",
   "metadata": {},
   "outputs": [],
   "source": [
    "ALPACA_API_KEY = \"PKASF8QGLW9NPWZ01261\"\n",
    "ALPACA_SECRET_KEY = \"NCGKQx5lUFu56cnssrZDbmczmqqg8Th7KHNMMWMp\""
   ]
  }
 ],
 "metadata": {
  "kernelspec": {
   "display_name": "Python 3 (ipykernel)",
   "language": "python",
   "name": "python3"
  },
  "language_info": {
   "codemirror_mode": {
    "name": "ipython",
    "version": 3
   },
   "file_extension": ".py",
   "mimetype": "text/x-python",
   "name": "python",
   "nbconvert_exporter": "python",
   "pygments_lexer": "ipython3",
   "version": "3.9.7"
  }
 },
 "nbformat": 4,
 "nbformat_minor": 5
}
